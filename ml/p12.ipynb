{
 "cells": [
  {
   "cell_type": "code",
   "execution_count": null,
   "id": "e1b678b8-389a-4b83-8a3f-3f6d5e9f32d4",
   "metadata": {},
   "outputs": [
    {
     "name": "stdout",
     "output_type": "stream",
     "text": [
      "   Age  Income  Gender  Purchase\n",
      "0   22   25000    Male         0\n",
      "1   25   45000  Female         1\n",
      "2   47  100000  Female         1\n",
      "3   52   80000    Male         0\n",
      "4   23   35000  Female         1\n",
      "5   40   60000    Male         1\n",
      "6   60  120000    Male         0\n",
      "7   35   55000  Female         1\n",
      "8   45   75000    Male         0\n",
      "9   38   68000  Female         1\n",
      "First 5 rows:\n",
      "    Age  Income  Gender  Purchase\n",
      "0   22   25000    Male         0\n",
      "1   25   45000  Female         1\n",
      "2   47  100000  Female         1\n",
      "3   52   80000    Male         0\n",
      "4   23   35000  Female         1\n",
      "\n",
      "Summary statistics:\n",
      "              Age         Income   Purchase\n",
      "count  10.000000      10.000000  10.000000\n",
      "mean   38.700000   66300.000000   0.600000\n",
      "std    12.771931   29044.219161   0.516398\n",
      "min    22.000000   25000.000000   0.000000\n",
      "25%    27.500000   47500.000000   0.000000\n",
      "50%    39.000000   64000.000000   1.000000\n",
      "75%    46.500000   78750.000000   1.000000\n",
      "max    60.000000  120000.000000   1.000000\n",
      "\n",
      "Missing values:\n",
      " Age         0\n",
      "Income      0\n",
      "Gender      0\n",
      "Purchase    0\n",
      "dtype: int64\n"
     ]
    }
   ],
   "source": [
    "import pandas as pd\n",
    "import matplotlib.pyplot as plt\n",
    "import seaborn as sns\n",
    "\n",
    "data = {\n",
    "    \"Age\": [22, 25, 47, 52, 23, 40, 60, 35, 45, 38],\n",
    "    \"Income\": [25000, 45000, 100000, 80000, 35000, 60000, 120000, 55000, 75000, 68000],\n",
    "    \"Gender\": [\n",
    "        \"Male\",\n",
    "        \"Female\",\n",
    "        \"Female\",\n",
    "        \"Male\",\n",
    "        \"Female\",\n",
    "        \"Male\",\n",
    "        \"Male\",\n",
    "        \"Female\",\n",
    "        \"Male\",\n",
    "        \"Female\",\n",
    "    ],\n",
    "    \"Purchase\": [0, 1, 1, 0, 1, 1, 0, 1, 0, 1],\n",
    "}\n",
    "\n",
    "df = pd.DataFrame(data)\n",
    "print(df)\n",
    "print(\"First 5 rows:\\n\", df.head())\n",
    "print(\"\\nSummary statistics:\\n\", df.describe())\n",
    "print(\"\\nMissing values:\\n\", df.isnull().sum())"
   ]
  },
  {
   "cell_type": "code",
   "execution_count": 44,
   "id": "1d738f8c",
   "metadata": {},
   "outputs": [
    {
     "data": {
      "image/png": "iVBORw0KGgoAAAANSUhEUgAABKEAAAJOCAYAAABvBRRKAAAAOnRFWHRTb2Z0d2FyZQBNYXRwbG90bGliIHZlcnNpb24zLjEwLjEsIGh0dHBzOi8vbWF0cGxvdGxpYi5vcmcvc2/+5QAAAAlwSFlzAAAPYQAAD2EBqD+naQAAmT1JREFU[...]",
      "text/plain": [
       "<Figure size 1200x600 with 2 Axes>"
      ]
     },
     "metadata": {},
     "output_type": "display_data"
    }
   ],
   "source": [
    "fig, ax = plt.subplots(1, 2, figsize=(12, 6))\n",
    "sns.histplot(df[\"Age\"], kde=True, color=\"blue\", bins=10, ax=ax[0])\n",
    "ax[0].set_title(\"Age Distribution\")\n",
    "sns.histplot(df[\"Income\"], kde=True, color=\"green\", bins=10, ax=ax[1])\n",
    "ax[1].set_title(\"Income Distribution\")\n",
    "plt.tight_layout()\n",
    "plt.show()"
   ]
  },
  {
   "cell_type": "code",
   "execution_count": 45,
   "id": "45fe39a2",
   "metadata": {},
   "outputs": [
    {
     "data": {
      "image/png": "iVBORw0KGgoAAAANSUhEUgAAAxYAAAJOCAYAAAAqFJGJAAAAOnRFWHRTb2Z0d2FyZQBNYXRwbG90bGliIHZlcnNpb24zLjEwLjEsIGh0dHBzOi8vbWF0cGxvdGxpYi5vcmcvc2/+5QAAAAlwSFlzAAAPYQAAD2EBqD+naQAAKX1JREF[...]",
      "text/plain": [
       "<Figure size 800x600 with 1 Axes>"
      ]
     },
     "metadata": {},
     "output_type": "display_data"
    }
   ],
   "source": [
    "fig, ax = plt.subplots(figsize=(8, 6))\n",
    "sns.boxplot(x=df[\"Income\"], color=\"green\", ax=ax)\n",
    "ax.set_title(\"Boxplot of Income\")\n",
    "\n",
    "plt.tight_layout()\n",
    "plt.show()"
   ]
  },
  {
   "cell_type": "code",
   "execution_count": 46,
   "id": "78a647a6",
   "metadata": {},
   "outputs": [
    {
     "name": "stderr",
     "output_type": "stream",
     "text": [
      "/tmp/ipykernel_8802/4015456743.py:2: FutureWarning: \n",
      "\n",
      "Passing `palette` without assigning `hue` is deprecated and will be removed in v0.14.0. Assign the `x` variable to `hue` and set `legend=False` for the same effect.\n",
      "\n",
      "  sns.countplot(x=\"Gender\", data=df, palette=\"Set2\")\n"
     ]
    },
    {
     "data": {
      "image/png": "iVBORw0KGgoAAAANSUhEUgAAAgsAAAGJCAYAAAAEz3CAAAAAOnRFWHRTb2Z0d2FyZQBNYXRwbG90bGliIHZlcnNpb24zLjEwLjEsIGh0dHBzOi8vbWF0cGxvdGxpYi5vcmcvc2/+5QAAAAlwSFlzAAAPYQAAD2EBqD+naQAAKL1JREF[...]",
      "text/plain": [
       "<Figure size 600x400 with 1 Axes>"
      ]
     },
     "metadata": {},
     "output_type": "display_data"
    }
   ],
   "source": [
    "plt.figure(figsize=(6, 4))\n",
    "sns.countplot(x=\"Gender\", data=df, palette=\"Set2\")\n",
    "plt.title(\"Gender Distribution\")\n",
    "plt.show()"
   ]
  },
  {
   "cell_type": "code",
   "execution_count": 47,
   "id": "943635aa",
   "metadata": {},
   "outputs": [
    {
     "name": "stderr",
     "output_type": "stream",
     "text": [
      "/tmp/ipykernel_8802/3892359114.py:2: FutureWarning: \n",
      "\n",
      "Passing `palette` without assigning `hue` is deprecated and will be removed in v0.14.0. Assign the `x` variable to `hue` and set `legend=False` for the same effect.\n",
      "\n",
      "  sns.countplot(x=\"Purchase\", data=df, palette=\"Set1\")\n"
     ]
    },
    {
     "data": {
      "image/png": "iVBORw0KGgoAAAANSUhEUgAAAgsAAAGJCAYAAAAEz3CAAAAAOnRFWHRTb2Z0d2FyZQBNYXRwbG90bGliIHZlcnNpb24zLjEwLjEsIGh0dHBzOi8vbWF0cGxvdGxpYi5vcmcvc2/+5QAAAAlwSFlzAAAPYQAAD2EBqD+naQAAKZNJREF[...]",
      "text/plain": [
       "<Figure size 600x400 with 1 Axes>"
      ]
     },
     "metadata": {},
     "output_type": "display_data"
    }
   ],
   "source": [
    "plt.figure(figsize=(6, 4))\n",
    "sns.countplot(x=\"Purchase\", data=df, palette=\"Set1\")\n",
    "plt.title(\"Purchase Class Distribution\")\n",
    "plt.show()"
   ]
  },
  {
   "cell_type": "code",
   "execution_count": 48,
   "id": "b939c494",
   "metadata": {},
   "outputs": [
    {
     "data": {
      "image/png": "iVBORw0KGgoAAAANSUhEUgAAAe4AAAF2CAYAAACoInt4AAAAOnRFWHRTb2Z0d2FyZQBNYXRwbG90bGliIHZlcnNpb24zLjEwLjEsIGh0dHBzOi8vbWF0cGxvdGxpYi5vcmcvc2/+5QAAAAlwSFlzAAAPYQAAD2EBqD+naQAAQKtJREF[...]",
      "text/plain": [
       "<Figure size 600x400 with 2 Axes>"
      ]
     },
     "metadata": {},
     "output_type": "display_data"
    }
   ],
   "source": [
    "plt.figure(figsize=(6, 4))\n",
    "sns.heatmap(df[[\"Age\", \"Income\"]].corr(), annot=True, cmap=\"coolwarm\", fmt=\".2f\")\n",
    "plt.title(\"Correlation Heatmap\")\n",
    "plt.show()"
   ]
  },
  {
   "cell_type": "code",
   "execution_count": 49,
   "id": "4de22bea",
   "metadata": {},
   "outputs": [
    {
     "data": {
      "image/png": "iVBORw0KGgoAAAANSUhEUgAAAj4AAAIGCAYAAABUG4VsAAAAOnRFWHRTb2Z0d2FyZQBNYXRwbG90bGliIHZlcnNpb24zLjEwLjEsIGh0dHBzOi8vbWF0cGxvdGxpYi5vcmcvc2/+5QAAAAlwSFlzAAAPYQAAD2EBqD+naQAAoeBJREF[...]",
      "text/plain": [
       "<Figure size 574.111x500 with 6 Axes>"
      ]
     },
     "metadata": {},
     "output_type": "display_data"
    }
   ],
   "source": [
    "sns.pairplot(df, hue=\"Purchase\", palette=\"Set1\", vars=[\"Age\", \"Income\"])\n",
    "plt.suptitle(\"Pairplot for Features vs Purchase\", y=1.02)\n",
    "plt.show()"
   ]
  }
 ],
 "metadata": {
  "kernelspec": {
   "display_name": ".venv",
   "language": "python",
   "name": "python3"
  },
  "language_info": {
   "codemirror_mode": {
    "name": "ipython",
    "version": 3
   },
   "file_extension": ".py",
   "mimetype": "text/x-python",
   "name": "python",
   "nbconvert_exporter": "python",
   "pygments_lexer": "ipython3",
   "version": "3.13.2"
  }
 },
 "nbformat": 4,
 "nbformat_minor": 5
}
