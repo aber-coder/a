{
 "cells": [
  {
   "cell_type": "code",
   "execution_count": 13,
   "metadata": {},
   "outputs": [],
   "source": [
    "import pandas as pd\n",
    "from sklearn import datasets\n",
    "from sklearn.model_selection import train_test_split\n",
    "from sklearn.preprocessing import StandardScaler\n",
    "from sklearn.neighbors import KNeighborsClassifier\n",
    "from sklearn.metrics import accuracy_score\n",
    "from collections import defaultdict"
   ]
  },
  {
   "cell_type": "code",
   "execution_count": 14,
   "metadata": {},
   "outputs": [],
   "source": [
    "csv_url = \"https://archive.ics.uci.edu/ml/machine-learning-databases/iris/iris.data\"\n",
    "col_names = [\"Sepal_Length\", \"Sepal_Width\", \"Petal_Length\", \"Petal_Width\", \"Species\"]\n",
    "\n",
    "iris = pd.read_csv(csv_url, names=col_names)\n",
    "iris = datasets.load_iris()\n",
    "X, y = iris.data, iris.target\n",
    "X_train, X_test, y_train, y_test = train_test_split(\n",
    "    X, y, test_size=0.2, random_state=42\n",
    ")\n",
    "\n",
    "# Standardize the features\n",
    "scaler = StandardScaler()\n",
    "X_train = scaler.fit_transform(X_train)\n",
    "X_test = scaler.transform(X_test)"
   ]
  },
  {
   "cell_type": "code",
   "execution_count": 15,
   "metadata": {},
   "outputs": [],
   "source": [
    "\n",
    "# Train K-Nearest Neighbors classifier\n",
    "knn = KNeighborsClassifier(n_neighbors=5)\n",
    "knn.fit(X_train, y_train)\n",
    "\n",
    "# Make predictions\n",
    "y_pred = knn.predict(X_test)\n"
   ]
  },
  {
   "cell_type": "code",
   "execution_count": 16,
   "metadata": {},
   "outputs": [
    {
     "name": "stdout",
     "output_type": "stream",
     "text": [
      "Model Accuracy: 1.00%\n",
      "{'correct': ['Test sample 1: Predicted=1, Actual=1',\n",
      "             'Test sample 2: Predicted=0, Actual=0',\n",
      "             'Test sample 3: Predicted=2, Actual=2',\n",
      "             'Test sample 4: Predicted=1, Actual=1',\n",
      "             'Test sample 5: Predicted=1, Actual=1',\n",
      "             'Test sample 6: Predicted=0, Actual=0',\n",
      "             'Test sample 7: Predicted=1, Actual=1',\n",
      "             'Test sample 8: Predicted=2, Actual=2',\n",
      "             'Test sample 9: Predicted=1, Actual=1',\n",
      "             'Test sample 10: Predicted=1, Actual=1',\n",
      "             'Test sample 11: Predicted=2, Actual=2',\n",
      "             'Test sample 12: Predicted=0, Actual=0',\n",
      "             'Test sample 13: Predicted=0, Actual=0',\n",
      "             'Test sample 14: Predicted=0, Actual=0',\n",
      "             'Test sample 15: Predicted=0, Actual=0',\n",
      "             'Test sample 16: Predicted=1, Actual=1',\n",
      "             'Test sample 17: Predicted=2, Actual=2',\n",
      "             'Test sample 18: Predicted=1, Actual=1',\n",
      "             'Test sample 19: Predicted=1, Actual=1',\n",
      "             'Test sample 20: Predicted=2, Actual=2',\n",
      "             'Test sample 21: Predicted=0, Actual=0',\n",
      "             'Test sample 22: Predicted=2, Actual=2',\n",
      "             'Test sample 23: Predicted=0, Actual=0',\n",
      "             'Test sample 24: Predicted=2, Actual=2',\n",
      "             'Test sample 25: Predicted=2, Actual=2',\n",
      "             'Test sample 26: Predicted=2, Actual=2',\n",
      "             'Test sample 27: Predicted=2, Actual=2',\n",
      "             'Test sample 28: Predicted=2, Actual=2',\n",
      "             'Test sample 29: Predicted=0, Actual=0',\n",
      "             'Test sample 30: Predicted=0, Actual=0'],\n",
      " 'incorrect': []}\n"
     ]
    }
   ],
   "source": [
    "\n",
    "accuracy = accuracy_score(y_test, y_pred)\n",
    "print(f'Model Accuracy: {accuracy:.2f}%')\n",
    "\n",
    "results = {\"correct\":[],\"incorrect\":[]}\n",
    "\n",
    "for i,(p,a) in enumerate(zip(y_pred, y_test)):\n",
    "    if p == a:\n",
    "        results[\"correct\"].append((f'Test sample {i + 1}: Predicted={p}, Actual={a}'))\n",
    "    else:\n",
    "        results[\"incorrect\"].append((f'Test sample {i + 1}: Predicted={p}, Actual={a}'))\n",
    "\n",
    "pprint.pp(results)"
   ]
  }
 ],
 "metadata": {
  "kernelspec": {
   "display_name": "Python 3",
   "language": "python",
   "name": "python3"
  },
  "language_info": {
   "codemirror_mode": {
    "name": "ipython",
    "version": 3
   },
   "file_extension": ".py",
   "mimetype": "text/x-python",
   "name": "python",
   "nbconvert_exporter": "python",
   "pygments_lexer": "ipython3",
   "version": "3.13.1"
  }
 },
 "nbformat": 4,
 "nbformat_minor": 2
}
