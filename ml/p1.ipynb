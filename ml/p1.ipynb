{
 "cells": [
  {
   "cell_type": "code",
   "execution_count": 75,
   "metadata": {},
   "outputs": [
    {
     "name": "stdout",
     "output_type": "stream",
     "text": [
      "Data\n",
      "    example    sky airtemp humidity    wind water forecast enjoysport\n",
      "0        1  sunny    warm     high  strong  cool   change        yes\n",
      "1        2  sunny    warm   normal  strong  warm     same        yes\n",
      "2        3  sunny    warm     high  strong  warm     same        yes\n",
      "3        4  rainy    cold     high  strong  warm   change         no\n",
      "\n",
      "Only positive hypotheses\n",
      "      sky airtemp humidity    wind water forecast enjoysport\n",
      "0  sunny    warm     high  strong  cool   change        yes\n",
      "1  sunny    warm   normal  strong  warm     same        yes\n",
      "2  sunny    warm     high  strong  warm     same        yes\n",
      "['sunny', 'warm', '?', 'strong', '?', '?', 'yes']\n"
     ]
    }
   ],
   "source": [
    "import pandas as pd\n",
    "\n",
    "df = pd.read_csv(\"weather.csv\")\n",
    "print(\"Data\\n\", df)\n",
    "df = df.iloc[:, 1:]\n",
    "\n",
    "df = df[df[\"enjoysport\"] == \"yes\"]\n",
    "print(\"\\nOnly positive hypotheses\\n\",df)\n",
    "\n",
    "result = [\n",
    "    df.iloc[0, i] if df.iloc[:, i].nunique() == 1 else \"?\" for i in range(df.shape[1])\n",
    "]\n",
    "\n",
    "print(result)"
   ]
  }
 ],
 "metadata": {
  "kernelspec": {
   "display_name": ".venv",
   "language": "python",
   "name": "python3"
  },
  "language_info": {
   "codemirror_mode": {
    "name": "ipython",
    "version": 3
   },
   "file_extension": ".py",
   "mimetype": "text/x-python",
   "name": "python",
   "nbconvert_exporter": "python",
   "pygments_lexer": "ipython3",
   "version": "3.11.11"
  }
 },
 "nbformat": 4,
 "nbformat_minor": 2
}
